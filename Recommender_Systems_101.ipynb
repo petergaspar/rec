{
 "cells": [
  {
   "cell_type": "markdown",
   "metadata": {},
   "source": [
    "# Ako začať s odporúčaním"
   ]
  },
  {
   "cell_type": "code",
   "execution_count": 1,
   "metadata": {},
   "outputs": [],
   "source": [
    "# Na začiatku zahrnieme všetky potrebné knižnice.\n",
    "import pandas as pd\n",
    "import numpy as np\n",
    "import scipy as sp\n",
    "import scipy.sparse\n",
    "\n",
    "import time\n",
    "\n",
    "# Na vykreslenie.\n",
    "import matplotlib.pyplot as plt\n",
    "from prettytable import PrettyTable"
   ]
  },
  {
   "cell_type": "markdown",
   "metadata": {},
   "source": [
    "## Získanie a načítanie dát"
   ]
  },
  {
   "cell_type": "markdown",
   "metadata": {},
   "source": [
    "Načítavame dátovú sadu MovieLens 1M (http://grouplens.org/datasets/movielens/1m/), ktorá obsahuje hodnotenia filmov.\n",
    "\n",
    "*Poznámka: Dátová sada je vo formáte `dat`, pre rýchlejšie načítanie som ju previedol do formátu `CSV`.*"
   ]
  },
  {
   "cell_type": "code",
   "execution_count": 2,
   "metadata": {},
   "outputs": [],
   "source": [
    "MOVIELENS_DATA = '/media/disk/data/pgaspar/movielens-1m/ratings.csv'\n",
    "\n",
    "ratings = pd.read_csv(MOVIELENS_DATA, sep='\\t', names=['userId', 'movieId', 'rating', 'timestamp'])"
   ]
  },
  {
   "cell_type": "markdown",
   "metadata": {},
   "source": [
    "Náhľad dát."
   ]
  },
  {
   "cell_type": "code",
   "execution_count": 3,
   "metadata": {},
   "outputs": [
    {
     "data": {
      "text/html": [
       "<div>\n",
       "<style scoped>\n",
       "    .dataframe tbody tr th:only-of-type {\n",
       "        vertical-align: middle;\n",
       "    }\n",
       "\n",
       "    .dataframe tbody tr th {\n",
       "        vertical-align: top;\n",
       "    }\n",
       "\n",
       "    .dataframe thead th {\n",
       "        text-align: right;\n",
       "    }\n",
       "</style>\n",
       "<table border=\"1\" class=\"dataframe\">\n",
       "  <thead>\n",
       "    <tr style=\"text-align: right;\">\n",
       "      <th></th>\n",
       "      <th>userId</th>\n",
       "      <th>movieId</th>\n",
       "      <th>rating</th>\n",
       "      <th>timestamp</th>\n",
       "    </tr>\n",
       "  </thead>\n",
       "  <tbody>\n",
       "    <tr>\n",
       "      <th>0</th>\n",
       "      <td>1</td>\n",
       "      <td>1193</td>\n",
       "      <td>5</td>\n",
       "      <td>978300760</td>\n",
       "    </tr>\n",
       "    <tr>\n",
       "      <th>1</th>\n",
       "      <td>1</td>\n",
       "      <td>661</td>\n",
       "      <td>3</td>\n",
       "      <td>978302109</td>\n",
       "    </tr>\n",
       "    <tr>\n",
       "      <th>2</th>\n",
       "      <td>1</td>\n",
       "      <td>914</td>\n",
       "      <td>3</td>\n",
       "      <td>978301968</td>\n",
       "    </tr>\n",
       "    <tr>\n",
       "      <th>3</th>\n",
       "      <td>1</td>\n",
       "      <td>3408</td>\n",
       "      <td>4</td>\n",
       "      <td>978300275</td>\n",
       "    </tr>\n",
       "    <tr>\n",
       "      <th>4</th>\n",
       "      <td>1</td>\n",
       "      <td>2355</td>\n",
       "      <td>5</td>\n",
       "      <td>978824291</td>\n",
       "    </tr>\n",
       "  </tbody>\n",
       "</table>\n",
       "</div>"
      ],
      "text/plain": [
       "   userId  movieId  rating  timestamp\n",
       "0       1     1193       5  978300760\n",
       "1       1      661       3  978302109\n",
       "2       1      914       3  978301968\n",
       "3       1     3408       4  978300275\n",
       "4       1     2355       5  978824291"
      ]
     },
     "execution_count": 3,
     "metadata": {},
     "output_type": "execute_result"
    }
   ],
   "source": [
    "ratings.head()"
   ]
  },
  {
   "cell_type": "markdown",
   "metadata": {},
   "source": [
    "Vypočítame si základné štatistiky dátovej sady."
   ]
  },
  {
   "cell_type": "code",
   "execution_count": 4,
   "metadata": {},
   "outputs": [
    {
     "name": "stdout",
     "output_type": "stream",
     "text": [
      "V sade je 6040 používateľov, 3706 filmov a 1000209 hodnotení.\n",
      "Používatelia mohli hodnotiť filmy na škále {1, 2, 3, 4, 5}\n",
      "Spomedzi všetkých hodnôt matice hodnotení (22384240) je vyplnených len 1000209 (4.47%).\n",
      "\n"
     ]
    }
   ],
   "source": [
    "n_users = len(set(ratings['userId']))\n",
    "n_items = len(set(ratings['movieId']))\n",
    "n_ratings = ratings.shape[0]\n",
    "\n",
    "print(f'''V sade je {n_users} používateľov, {n_items} filmov a {n_ratings} hodnotení.\n",
    "Používatelia mohli hodnotiť filmy na škále {set(ratings['rating'])}\n",
    "Spomedzi všetkých hodnôt matice hodnotení ({n_users*n_items}) je vyplnených len {n_ratings} ({round((n_ratings*100)/(n_users*n_items), 2)}%).\n",
    "''')"
   ]
  },
  {
   "cell_type": "markdown",
   "metadata": {},
   "source": [
    "Pre každého používateľa vypočítajme počet hodnotení, priemerné hodnotenie a varianciu a vykreslime histogram pre celý dataset používateľov."
   ]
  },
  {
   "cell_type": "code",
   "execution_count": 5,
   "metadata": {},
   "outputs": [],
   "source": [
    "stats = ratings.groupby('userId')['rating'].agg(['mean', 'var', 'count'])\n",
    "\n",
    "counts = list(stats['count'])\n",
    "means = list(stats['mean'])\n",
    "variances = list(stats['var'])"
   ]
  },
  {
   "cell_type": "markdown",
   "metadata": {},
   "source": [
    "Tento dataset nie je vhodný pre overovanie studeného štartu. Na druhej strane, zaleží na tom, ako si studený štart zadefinujeme."
   ]
  },
  {
   "cell_type": "code",
   "execution_count": 6,
   "metadata": {},
   "outputs": [
    {
     "data": {
      "text/plain": [
       "20"
      ]
     },
     "execution_count": 6,
     "metadata": {},
     "output_type": "execute_result"
    }
   ],
   "source": [
    "np.min(counts)"
   ]
  },
  {
   "cell_type": "code",
   "execution_count": 7,
   "metadata": {},
   "outputs": [
    {
     "data": {
      "image/png": "[encoded data removed]",
      "text/plain": [
       "<matplotlib.figure.Figure at 0x7f8e400abf98>"
      ]
     },
     "metadata": {},
     "output_type": "display_data"
    }
   ],
   "source": [
    "plt.hist(counts, bins=30)\n",
    "plt.title('Distribúcia počtov hodnotení')\n",
    "plt.xlabel('Počet hodnotení na používateľa')\n",
    "plt.ylabel('Počet takých používateľov')\n",
    "plt.show()"
   ]
  },
  {
   "cell_type": "code",
   "execution_count": 8,
   "metadata": {},
   "outputs": [
    {
     "data": {
      "image/png": "[encoded data removed]",
      "text/plain": [
       "<matplotlib.figure.Figure at 0x7f8e3dfe2048>"
      ]
     },
     "metadata": {},
     "output_type": "display_data"
    }
   ],
   "source": [
    "# Orežme o počty vyššie ako 1000.\n",
    "counts_sub = np.array(counts)\n",
    "counts_sub = counts_sub[counts_sub < 1000]\n",
    "\n",
    "plt.hist(counts_sub, bins=30)\n",
    "plt.title('Distribúcia počtov hodnotení')\n",
    "plt.xlabel('Počet hodnotení na používateľa')\n",
    "plt.ylabel('Počet takých používateľov')\n",
    "plt.show()"
   ]
  },
  {
   "cell_type": "code",
   "execution_count": 9,
   "metadata": {},
   "outputs": [
    {
     "data": {
      "image/png": "[encoded data removed]",
      "text/plain": [
       "<matplotlib.figure.Figure at 0x7f8e400abf60>"
      ]
     },
     "metadata": {},
     "output_type": "display_data"
    }
   ],
   "source": [
    "plt.hist(means, bins=30)\n",
    "plt.title('Distribúcia priemerných hodnotení')\n",
    "plt.xlabel('Priemerné hodnotenie')\n",
    "plt.ylabel('Počet používateľov s takým priemerným hodnotením')\n",
    "plt.show()"
   ]
  },
  {
   "cell_type": "markdown",
   "metadata": {},
   "source": [
    "**Otázka:** Prečo sa má na to zmysel pozerať?"
   ]
  },
  {
   "cell_type": "markdown",
   "metadata": {},
   "source": [
    "## Predspracovanie"
   ]
  },
  {
   "cell_type": "markdown",
   "metadata": {},
   "source": [
    "V rámci našej úlohy budeme odporúčať filmy, pričom nás nebude zaujímať, ako by ich používateľ ohodnotil. Budeme teda skúmať, koľko z odporúčaných filmov by si človek pozrel (bez ohľadu na to, aké hodnotenie by im dal).\n",
    "\n",
    "Inými slovami -- budeme riešiť úlohu **predpovede poradia**.\n",
    "\n",
    "Vo fáze predspracovania chceme upraviť dataset, s ktorým pracujeme. Rozhodli sme sa, že hodnotenia na škále 1-5 prevedieme na binárne hodnotenia, kde -1 bude negatívna spätná väzba a 1 bude pozitívna spätná väzba."
   ]
  },
  {
   "cell_type": "markdown",
   "metadata": {},
   "source": [
    "### Pokus číslo 1\n",
    "Nájdeme priemerné hodnotenie filmov spomedzi všetkých filmov. Hodnotenie pod túto hranicu bude negatívne. Hodnotenie nad túto hranicu bude pozitívne."
   ]
  },
  {
   "cell_type": "code",
   "execution_count": 10,
   "metadata": {},
   "outputs": [
    {
     "name": "stdout",
     "output_type": "stream",
     "text": [
      "Priemerné hodnotenie: 3.581564453029317\n"
     ]
    }
   ],
   "source": [
    "average_rating = ratings['rating'].mean()\n",
    "\n",
    "print(f\"Priemerné hodnotenie: {average_rating}\")"
   ]
  },
  {
   "cell_type": "markdown",
   "metadata": {},
   "source": [
    "To vyzerá dobre. Teraz teda transformujeme pôvodné hodnoty zo škály 1-5 na binárne -1 a 1."
   ]
  },
  {
   "cell_type": "code",
   "execution_count": 11,
   "metadata": {},
   "outputs": [
    {
     "data": {
      "text/plain": [
       "0    1\n",
       "1   -1\n",
       "2   -1\n",
       "3    1\n",
       "4    1\n",
       "5   -1\n",
       "6    1\n",
       "7    1\n",
       "8    1\n",
       "9    1\n",
       "Name: rating, dtype: int64"
      ]
     },
     "execution_count": 11,
     "metadata": {},
     "output_type": "execute_result"
    }
   ],
   "source": [
    "ratings['rating'].transform(lambda x: 1 if x >= average_rating else -1).head(10)"
   ]
  },
  {
   "cell_type": "markdown",
   "metadata": {},
   "source": [
    "Môžeme si toto dovoliť? Čo ak ľudia hodnotia rôzne?"
   ]
  },
  {
   "cell_type": "code",
   "execution_count": 12,
   "metadata": {},
   "outputs": [
    {
     "data": {
      "image/png": "[encoded data removed]",
      "text/plain": [
       "<matplotlib.figure.Figure at 0x7f8e400aba90>"
      ]
     },
     "metadata": {},
     "output_type": "display_data"
    }
   ],
   "source": [
    "plt.boxplot(means, 1, 'o', 0)\n",
    "plt.title('Priemerné hodnotenie')\n",
    "plt.show()"
   ]
  },
  {
   "cell_type": "markdown",
   "metadata": {},
   "source": [
    "### Pokus číslo 2\n",
    "Rozdelíme si hodnotenia na 4 kvantily. Dolný kvartil budú pozitívne, všetko ostatné budú negatívne prípady.\n",
    "**Tentokrát to ale spravíme pre každého používateľa samostatne.**"
   ]
  },
  {
   "cell_type": "markdown",
   "metadata": {},
   "source": [
    "#### Odbočka - čo je to kvartil"
   ]
  },
  {
   "cell_type": "code",
   "execution_count": 13,
   "metadata": {},
   "outputs": [],
   "source": [
    "# Majme vektor hodnotení.\n",
    "a = [1, 1, 2, 3, 3, 2, 1, 2, 3, 2, 3, 1, 2, 5, 4, 3, 2, 5]"
   ]
  },
  {
   "cell_type": "code",
   "execution_count": 14,
   "metadata": {},
   "outputs": [
    {
     "data": {
      "text/plain": [
       "[1, 1, 1, 1, 2, 2, 2, 2, 2, 2, 3, 3, 3, 3, 3, 4, 5, 5]"
      ]
     },
     "execution_count": 14,
     "metadata": {},
     "output_type": "execute_result"
    }
   ],
   "source": [
    "# Zoraďme ho.\n",
    "a = sorted(a)\n",
    "a"
   ]
  },
  {
   "cell_type": "code",
   "execution_count": 15,
   "metadata": {},
   "outputs": [
    {
     "data": {
      "text/plain": [
       "2.5"
      ]
     },
     "execution_count": 15,
     "metadata": {},
     "output_type": "execute_result"
    }
   ],
   "source": [
    "# Vypočítajme priemer.\n",
    "np.mean(a)"
   ]
  },
  {
   "cell_type": "code",
   "execution_count": 16,
   "metadata": {},
   "outputs": [
    {
     "data": {
      "text/plain": [
       "2.0"
      ]
     },
     "execution_count": 16,
     "metadata": {},
     "output_type": "execute_result"
    }
   ],
   "source": [
    "# Vypočítajme medián.\n",
    "np.median(a)"
   ]
  },
  {
   "cell_type": "code",
   "execution_count": 17,
   "metadata": {},
   "outputs": [
    {
     "data": {
      "text/plain": [
       "2"
      ]
     },
     "execution_count": 17,
     "metadata": {},
     "output_type": "execute_result"
    }
   ],
   "source": [
    "# Čo je to vlastne medián? Hodnota uprostred zoradených hodnôt vektora.\n",
    "a[int(len(a)/2)]"
   ]
  },
  {
   "cell_type": "code",
   "execution_count": 18,
   "metadata": {},
   "outputs": [
    {
     "name": "stdout",
     "output_type": "stream",
     "text": [
      "3.0\n",
      "2.0\n"
     ]
    }
   ],
   "source": [
    "# Medián je 0.5 kvantil.\n",
    "# Horný kvartil je 0.75 kvantil = hodnota, od ktorej je 75% hodnôt menších.\n",
    "# Dolný kvartil je 0.25 kvantil = hodnota, od ktorej je 25% hodnôt menších.\n",
    "print(np.percentile(a, 75))\n",
    "print(np.percentile(a, 25))"
   ]
  },
  {
   "cell_type": "code",
   "execution_count": 19,
   "metadata": {},
   "outputs": [
    {
     "name": "stdout",
     "output_type": "stream",
     "text": [
      "4.0\n",
      "2.0\n"
     ]
    }
   ],
   "source": [
    "b = [1, 2, 3, 4, 5]\n",
    "print(np.percentile(b, 75))\n",
    "print(np.percentile(b, 25))"
   ]
  },
  {
   "cell_type": "markdown",
   "metadata": {},
   "source": [
    "Kvartil, kvantil, percentil, aký je medzi nimi vzťah?"
   ]
  },
  {
   "cell_type": "markdown",
   "metadata": {},
   "source": [
    "| Kvartil| Kvantil | Percentil |\n",
    "| ----------- |\n",
    "| 0 kvartil | 0.00 kvantil | 0 percentil |\n",
    "| 1 kvartil | 0.25 kvantil | 25 percentil |\n",
    "| 2 kvartil | 0.50 kvantil | 50 percentil |\n",
    "| 3 kvartil | 0.75 kvantil | 75 percentil |\n",
    "| 4 kvartil | 1.00 kvantil | 100 percentil |"
   ]
  },
  {
   "cell_type": "markdown",
   "metadata": {},
   "source": [
    "https://docs.scipy.org/doc/numpy-dev/reference/generated/numpy.percentile.html"
   ]
  },
  {
   "cell_type": "markdown",
   "metadata": {},
   "source": [
    "#### Koniec odbočky"
   ]
  },
  {
   "cell_type": "code",
   "execution_count": 20,
   "metadata": {},
   "outputs": [],
   "source": [
    "# Pripravíme si funkciu na výpočet kvantilov.\n",
    "# https://stackoverflow.com/a/17578653\n",
    "def percentile(n):\n",
    "    def percentile_(x):\n",
    "        return np.percentile(x, n)\n",
    "    percentile_.__name__ = 'quantile_%s' % n\n",
    "    return percentile_"
   ]
  },
  {
   "cell_type": "code",
   "execution_count": 21,
   "metadata": {},
   "outputs": [],
   "source": [
    "# Pre každého používateľa získame dolný kvartil hodnotení.\n",
    "rating_quantiles = ratings.groupby('userId')['rating'].agg([percentile(25)])"
   ]
  },
  {
   "cell_type": "markdown",
   "metadata": {},
   "source": [
    "Čo ak majú používatelia menej ako určitý počet hodnotení? Vtedy sa nemôžeme spoliehať na ich kvartily, ale môžeme použiť priemerný kvartil naprieč všetkými používateľmi."
   ]
  },
  {
   "cell_type": "code",
   "execution_count": 22,
   "metadata": {},
   "outputs": [
    {
     "data": {
      "text/plain": [
       "3.0"
      ]
     },
     "execution_count": 22,
     "metadata": {},
     "output_type": "execute_result"
    }
   ],
   "source": [
    "ratings['rating'].quantile(.25)"
   ]
  },
  {
   "cell_type": "markdown",
   "metadata": {},
   "source": [
    "Teraz upravíme hodnotenia používateľov."
   ]
  },
  {
   "cell_type": "code",
   "execution_count": 23,
   "metadata": {},
   "outputs": [],
   "source": [
    "ratings = pd.merge(ratings, rating_quantiles, left_on='userId', right_index=True)\n",
    "\n",
    "ratings['rating_norm'] = 0 # Predvolená hodnota.\n",
    "\n",
    "ratings.loc[ratings['rating'] < ratings['quantile_25'], 'rating_norm'] = -1\n",
    "ratings.loc[ratings['rating'] >= ratings['quantile_25'], 'rating_norm'] = 1"
   ]
  },
  {
   "cell_type": "code",
   "execution_count": 24,
   "metadata": {},
   "outputs": [
    {
     "data": {
      "text/html": [
       "<div>\n",
       "<style scoped>\n",
       "    .dataframe tbody tr th:only-of-type {\n",
       "        vertical-align: middle;\n",
       "    }\n",
       "\n",
       "    .dataframe tbody tr th {\n",
       "        vertical-align: top;\n",
       "    }\n",
       "\n",
       "    .dataframe thead th {\n",
       "        text-align: right;\n",
       "    }\n",
       "</style>\n",
       "<table border=\"1\" class=\"dataframe\">\n",
       "  <thead>\n",
       "    <tr style=\"text-align: right;\">\n",
       "      <th></th>\n",
       "      <th>userId</th>\n",
       "      <th>movieId</th>\n",
       "      <th>rating</th>\n",
       "      <th>timestamp</th>\n",
       "      <th>quantile_25</th>\n",
       "      <th>rating_norm</th>\n",
       "    </tr>\n",
       "  </thead>\n",
       "  <tbody>\n",
       "    <tr>\n",
       "      <th>0</th>\n",
       "      <td>1</td>\n",
       "      <td>1193</td>\n",
       "      <td>5</td>\n",
       "      <td>978300760</td>\n",
       "      <td>4.0</td>\n",
       "      <td>1</td>\n",
       "    </tr>\n",
       "    <tr>\n",
       "      <th>1</th>\n",
       "      <td>1</td>\n",
       "      <td>661</td>\n",
       "      <td>3</td>\n",
       "      <td>978302109</td>\n",
       "      <td>4.0</td>\n",
       "      <td>-1</td>\n",
       "    </tr>\n",
       "    <tr>\n",
       "      <th>2</th>\n",
       "      <td>1</td>\n",
       "      <td>914</td>\n",
       "      <td>3</td>\n",
       "      <td>978301968</td>\n",
       "      <td>4.0</td>\n",
       "      <td>-1</td>\n",
       "    </tr>\n",
       "    <tr>\n",
       "      <th>3</th>\n",
       "      <td>1</td>\n",
       "      <td>3408</td>\n",
       "      <td>4</td>\n",
       "      <td>978300275</td>\n",
       "      <td>4.0</td>\n",
       "      <td>1</td>\n",
       "    </tr>\n",
       "    <tr>\n",
       "      <th>4</th>\n",
       "      <td>1</td>\n",
       "      <td>2355</td>\n",
       "      <td>5</td>\n",
       "      <td>978824291</td>\n",
       "      <td>4.0</td>\n",
       "      <td>1</td>\n",
       "    </tr>\n",
       "    <tr>\n",
       "      <th>5</th>\n",
       "      <td>1</td>\n",
       "      <td>1197</td>\n",
       "      <td>3</td>\n",
       "      <td>978302268</td>\n",
       "      <td>4.0</td>\n",
       "      <td>-1</td>\n",
       "    </tr>\n",
       "    <tr>\n",
       "      <th>6</th>\n",
       "      <td>1</td>\n",
       "      <td>1287</td>\n",
       "      <td>5</td>\n",
       "      <td>978302039</td>\n",
       "      <td>4.0</td>\n",
       "      <td>1</td>\n",
       "    </tr>\n",
       "    <tr>\n",
       "      <th>7</th>\n",
       "      <td>1</td>\n",
       "      <td>2804</td>\n",
       "      <td>5</td>\n",
       "      <td>978300719</td>\n",
       "      <td>4.0</td>\n",
       "      <td>1</td>\n",
       "    </tr>\n",
       "    <tr>\n",
       "      <th>8</th>\n",
       "      <td>1</td>\n",
       "      <td>594</td>\n",
       "      <td>4</td>\n",
       "      <td>978302268</td>\n",
       "      <td>4.0</td>\n",
       "      <td>1</td>\n",
       "    </tr>\n",
       "    <tr>\n",
       "      <th>9</th>\n",
       "      <td>1</td>\n",
       "      <td>919</td>\n",
       "      <td>4</td>\n",
       "      <td>978301368</td>\n",
       "      <td>4.0</td>\n",
       "      <td>1</td>\n",
       "    </tr>\n",
       "  </tbody>\n",
       "</table>\n",
       "</div>"
      ],
      "text/plain": [
       "   userId  movieId  rating  timestamp  quantile_25  rating_norm\n",
       "0       1     1193       5  978300760          4.0            1\n",
       "1       1      661       3  978302109          4.0           -1\n",
       "2       1      914       3  978301968          4.0           -1\n",
       "3       1     3408       4  978300275          4.0            1\n",
       "4       1     2355       5  978824291          4.0            1\n",
       "5       1     1197       3  978302268          4.0           -1\n",
       "6       1     1287       5  978302039          4.0            1\n",
       "7       1     2804       5  978300719          4.0            1\n",
       "8       1      594       4  978302268          4.0            1\n",
       "9       1      919       4  978301368          4.0            1"
      ]
     },
     "execution_count": 24,
     "metadata": {},
     "output_type": "execute_result"
    }
   ],
   "source": [
    "ratings.head(10)"
   ]
  },
  {
   "cell_type": "markdown",
   "metadata": {},
   "source": [
    "Teraz sa pozrieme na to, koľko máme pozitívnej a negatívnej spätnej väzby."
   ]
  },
  {
   "cell_type": "code",
   "execution_count": 25,
   "metadata": {},
   "outputs": [
    {
     "data": {
      "text/plain": [
       "rating_norm\n",
       "-1    139414\n",
       " 1    860795\n",
       "Name: rating, dtype: int64"
      ]
     },
     "execution_count": 25,
     "metadata": {},
     "output_type": "execute_result"
    }
   ],
   "source": [
    "ratings.groupby('rating_norm')['rating'].count()"
   ]
  },
  {
   "cell_type": "code",
   "execution_count": 26,
   "metadata": {},
   "outputs": [],
   "source": [
    "# Odstranime nepotrebne.\n",
    "del ratings['quantile_25']\n",
    "ratings['rating'] = ratings['rating_norm']\n",
    "del ratings['rating_norm']"
   ]
  },
  {
   "cell_type": "markdown",
   "metadata": {},
   "source": [
    "## Rozdelenie dát na train a test"
   ]
  },
  {
   "cell_type": "code",
   "execution_count": 27,
   "metadata": {},
   "outputs": [],
   "source": [
    "ratings = pd.read_csv(MOVIELENS_DATA, sep='\\t', names=['userId', 'movieId', 'rating', 'timestamp'])"
   ]
  },
  {
   "cell_type": "markdown",
   "metadata": {},
   "source": [
    "Aby sme vedeli overiť náš odporúčač, potrebujeme mať dáta rozdelené na trénovaciu a testovaciu množinu. V prípade odporúčania môže nastať ale problém. Skúsme najskôr použiť to, čo nám ponúka Python knižnica `scipy`.\n",
    "\n",
    "Vytvoríme si maticu, v ktorej riadky budú používatelia a stĺpce budú filmy."
   ]
  },
  {
   "cell_type": "code",
   "execution_count": 28,
   "metadata": {},
   "outputs": [],
   "source": [
    "ratings_pivot = ratings.pivot(index = 'userId', columns ='movieId', values = 'rating').fillna(0)\n",
    "sparce_rating_matrix = sp.sparse.csr_matrix(ratings_pivot.values)"
   ]
  },
  {
   "cell_type": "code",
   "execution_count": 29,
   "metadata": {},
   "outputs": [
    {
     "name": "stdout",
     "output_type": "stream",
     "text": [
      "Rozmery matice hodnotení: (6040, 3706)\n",
      "Počet používateľov: 6040\n",
      "Počet filmov: 3706\n"
     ]
    }
   ],
   "source": [
    "print(f\"Rozmery matice hodnotení: {sparce_rating_matrix.shape}\")\n",
    "print(f\"Počet používateľov: {n_users}\\nPočet filmov: {n_items}\")"
   ]
  },
  {
   "cell_type": "markdown",
   "metadata": {},
   "source": [
    "Použijeme metódu `train_test_split`, ktorá rozdeľuje dáta na trénovacie a testovacie."
   ]
  },
  {
   "cell_type": "code",
   "execution_count": 30,
   "metadata": {},
   "outputs": [],
   "source": [
    "from sklearn.model_selection import train_test_split"
   ]
  },
  {
   "cell_type": "code",
   "execution_count": 31,
   "metadata": {},
   "outputs": [
    {
     "name": "stdout",
     "output_type": "stream",
     "text": [
      "Rozmery trénovacej množiny: (4832, 3706)\n",
      "Rozmery testovacej množiny: (1208, 3706)\n"
     ]
    }
   ],
   "source": [
    "data_train, data_test = train_test_split(sparce_rating_matrix, test_size=0.2)\n",
    "\n",
    "print(f'''Rozmery trénovacej množiny: {data_train.shape}\n",
    "Rozmery testovacej množiny: {data_test.shape}''')"
   ]
  },
  {
   "cell_type": "markdown",
   "metadata": {},
   "source": [
    "Metóda rozdelila hodnotenia po používateľoch. **Prečo?**"
   ]
  },
  {
   "cell_type": "markdown",
   "metadata": {},
   "source": [
    "Vyskúšame teda rozdeliť samotný DataFrame s hodnoteniami."
   ]
  },
  {
   "cell_type": "code",
   "execution_count": 32,
   "metadata": {},
   "outputs": [],
   "source": [
    "train_df, test_df = train_test_split(ratings, test_size=0.2)"
   ]
  },
  {
   "cell_type": "code",
   "execution_count": 33,
   "metadata": {},
   "outputs": [
    {
     "name": "stdout",
     "output_type": "stream",
     "text": [
      "Z celkového počtu 6040 používateľov máme zároveň v traine aj v teste 6037.\n"
     ]
    }
   ],
   "source": [
    "# Overíme, či sa množina používateľov v train a teste prekrýva.\n",
    "intersection_users = len(np.intersect1d(list(set(train_df['userId'])), list(set(test_df['userId']))))\n",
    "print(f\"Z celkového počtu {n_users} používateľov máme zároveň v traine aj v teste {intersection_users}.\")"
   ]
  },
  {
   "cell_type": "markdown",
   "metadata": {},
   "source": [
    "### Diskusia"
   ]
  },
  {
   "cell_type": "markdown",
   "metadata": {},
   "source": [
    "**Otázka na zamyslenie č. 1:**\n",
    "Ako rozdeľovať interakcie používateľa s položkami (napr. hodnotenie, nákup, návšteva) na trénovaciu a testovaciu množinu (nemusí platiť len pri úlohe odporúčania)?"
   ]
  },
  {
   "cell_type": "markdown",
   "metadata": {},
   "source": [
    "**Otázka na zamyslenie č. 2**:\n",
    "Ako tento postup obohatiť o validačnú sadu?"
   ]
  },
  {
   "cell_type": "markdown",
   "metadata": {},
   "source": [
    "## Vytvorenie matice hodnotení"
   ]
  },
  {
   "cell_type": "markdown",
   "metadata": {},
   "source": [
    "Maticu budeme potrebovať iba pre účely trénovania modelu odporúčania. Pre testovanie si vystačíme s dataframom, z ktorého budeme získavať filmy, ktoré používateľ pozeral."
   ]
  },
  {
   "cell_type": "code",
   "execution_count": 34,
   "metadata": {},
   "outputs": [],
   "source": [
    "ratings = pd.read_csv(MOVIELENS_DATA, sep='\\t', names=['userId', 'movieId', 'rating', 'timestamp'])\n",
    "\n",
    "train_df, test_df = train_test_split(ratings, test_size=0.2)\n",
    "\n",
    "# Normalizujeme hodnotenia v traine (vid vyssie).\n",
    "rating_quantiles = train_df.groupby('userId')['rating'].agg([percentile(25)])\n",
    "train_df = pd.merge(train_df, rating_quantiles, left_on='userId', right_index=True)\n",
    "\n",
    "train_df['rating_norm'] = 0 # Predvolená hodnota.\n",
    "\n",
    "train_df.loc[train_df['rating'] < train_df['quantile_25'], 'rating_norm'] = -1\n",
    "train_df.loc[train_df['rating'] >= train_df['quantile_25'], 'rating_norm'] = 1\n",
    "\n",
    "# Odstranime nepotrebne.\n",
    "del train_df['quantile_25']\n",
    "train_df['rating'] = train_df['rating_norm']\n",
    "del train_df['rating_norm']"
   ]
  },
  {
   "cell_type": "code",
   "execution_count": 35,
   "metadata": {},
   "outputs": [],
   "source": [
    "ratings_pivot = train_df.pivot(index = 'userId', columns ='movieId', values = 'rating').fillna(0)\n",
    "sparce_rating_matrix = sp.sparse.csr_matrix(ratings_pivot.values)"
   ]
  },
  {
   "cell_type": "code",
   "execution_count": 36,
   "metadata": {},
   "outputs": [
    {
     "name": "stdout",
     "output_type": "stream",
     "text": [
      "Rozmery matice hodnotení: (6040, 3686)\n",
      "Počet používateľov: 6040\n",
      "Počet filmov: 3706\n"
     ]
    }
   ],
   "source": [
    "print(f\"Rozmery matice hodnotení: {sparce_rating_matrix.shape}\")\n",
    "print(f\"Počet používateľov: {n_users}\\nPočet filmov: {n_items}\")"
   ]
  },
  {
   "cell_type": "markdown",
   "metadata": {},
   "source": [
    "Tuší niekto, aký tu môže byť problém?"
   ]
  },
  {
   "cell_type": "code",
   "execution_count": 37,
   "metadata": {},
   "outputs": [
    {
     "name": "stdout",
     "output_type": "stream",
     "text": [
      "0\n",
      "20\n"
     ]
    }
   ],
   "source": [
    "unique_users = np.array(list(set(ratings['userId'])))\n",
    "unique_items = np.array(list(set(ratings['movieId'])))\n",
    "\n",
    "# Chýbajúce ID používateľov.\n",
    "print(len(np.setdiff1d(unique_users, list(ratings_pivot.index))))\n",
    "\n",
    "# Chýbajúce ID filmov.\n",
    "print(len(np.setdiff1d(unique_items, list(ratings_pivot.columns))))"
   ]
  },
  {
   "cell_type": "markdown",
   "metadata": {},
   "source": [
    "Niektoré odporúčače môžu mať problém s tým, ak v matici chýbajú položky, ktoré síce ohodnotené nie sú, ale môžeme ich odporúčať (hybridné odporúčanie s obsahom).\n",
    "\n",
    "Tento problém môžeme vyriešiť jednoduchým pridaním fiktívneho používateľa, ktorý ohodnotil všetky chýbajúce filmy."
   ]
  },
  {
   "cell_type": "code",
   "execution_count": 38,
   "metadata": {},
   "outputs": [],
   "source": [
    "train_df = train_df.copy()\n",
    "\n",
    "max_i = np.max(list(train_df.index))\n",
    "for item_id in np.setdiff1d(unique_items, list(ratings_pivot.columns)):\n",
    "    max_i += 1\n",
    "    train_df.at[max_i] = { 'userId': -1, 'movieId': item_id, 'rating': -2 }"
   ]
  },
  {
   "cell_type": "code",
   "execution_count": 39,
   "metadata": {},
   "outputs": [
    {
     "data": {
      "text/html": [
       "<div>\n",
       "<style scoped>\n",
       "    .dataframe tbody tr th:only-of-type {\n",
       "        vertical-align: middle;\n",
       "    }\n",
       "\n",
       "    .dataframe tbody tr th {\n",
       "        vertical-align: top;\n",
       "    }\n",
       "\n",
       "    .dataframe thead th {\n",
       "        text-align: right;\n",
       "    }\n",
       "</style>\n",
       "<table border=\"1\" class=\"dataframe\">\n",
       "  <thead>\n",
       "    <tr style=\"text-align: right;\">\n",
       "      <th></th>\n",
       "      <th>userId</th>\n",
       "      <th>movieId</th>\n",
       "      <th>rating</th>\n",
       "      <th>timestamp</th>\n",
       "    </tr>\n",
       "  </thead>\n",
       "  <tbody>\n",
       "    <tr>\n",
       "      <th>1000224</th>\n",
       "      <td>-1.0</td>\n",
       "      <td>3220.0</td>\n",
       "      <td>-2.0</td>\n",
       "      <td>NaN</td>\n",
       "    </tr>\n",
       "    <tr>\n",
       "      <th>1000225</th>\n",
       "      <td>-1.0</td>\n",
       "      <td>3297.0</td>\n",
       "      <td>-2.0</td>\n",
       "      <td>NaN</td>\n",
       "    </tr>\n",
       "    <tr>\n",
       "      <th>1000226</th>\n",
       "      <td>-1.0</td>\n",
       "      <td>3312.0</td>\n",
       "      <td>-2.0</td>\n",
       "      <td>NaN</td>\n",
       "    </tr>\n",
       "    <tr>\n",
       "      <th>1000227</th>\n",
       "      <td>-1.0</td>\n",
       "      <td>3607.0</td>\n",
       "      <td>-2.0</td>\n",
       "      <td>NaN</td>\n",
       "    </tr>\n",
       "    <tr>\n",
       "      <th>1000228</th>\n",
       "      <td>-1.0</td>\n",
       "      <td>3904.0</td>\n",
       "      <td>-2.0</td>\n",
       "      <td>NaN</td>\n",
       "    </tr>\n",
       "  </tbody>\n",
       "</table>\n",
       "</div>"
      ],
      "text/plain": [
       "         userId  movieId  rating  timestamp\n",
       "1000224    -1.0   3220.0    -2.0        NaN\n",
       "1000225    -1.0   3297.0    -2.0        NaN\n",
       "1000226    -1.0   3312.0    -2.0        NaN\n",
       "1000227    -1.0   3607.0    -2.0        NaN\n",
       "1000228    -1.0   3904.0    -2.0        NaN"
      ]
     },
     "execution_count": 39,
     "metadata": {},
     "output_type": "execute_result"
    }
   ],
   "source": [
    "train_df.tail()"
   ]
  },
  {
   "cell_type": "markdown",
   "metadata": {},
   "source": [
    "Teraz už môžeme vytvoriť novú pivot table a maticu pre odporúčanie. A použijeme priamo normalizované hodnotenie."
   ]
  },
  {
   "cell_type": "code",
   "execution_count": 40,
   "metadata": {},
   "outputs": [],
   "source": [
    "ratings_pivot = train_df.pivot(index = 'userId', columns ='movieId', values = 'rating').fillna(0)\n",
    "\n",
    "# Odstránime fiktívneho používateľa.\n",
    "ratings_pivot.drop(-1, axis=0, inplace=True)\n",
    "\n",
    "# Vytvorenie matice.\n",
    "sparce_rating_matrix = sp.sparse.csr_matrix(ratings_pivot.values)"
   ]
  },
  {
   "cell_type": "code",
   "execution_count": 41,
   "metadata": {},
   "outputs": [
    {
     "name": "stdout",
     "output_type": "stream",
     "text": [
      "Rozmery matice hodnotení: (6040, 3706)\n",
      "Počet používateľov: 6040\n",
      "Počet filmov: 3706\n"
     ]
    }
   ],
   "source": [
    "print(f\"Rozmery matice hodnotení: {sparce_rating_matrix.shape}\")\n",
    "print(f\"Počet používateľov: {n_users}\\nPočet filmov: {n_items}\")"
   ]
  },
  {
   "cell_type": "code",
   "execution_count": 42,
   "metadata": {},
   "outputs": [
    {
     "name": "stdout",
     "output_type": "stream",
     "text": [
      "0\n",
      "0\n"
     ]
    }
   ],
   "source": [
    "# Chýbajúce ID používateľov.\n",
    "print(len(np.setdiff1d(unique_users, list(ratings_pivot.index))))\n",
    "\n",
    "# Chýbajúce ID filmov.\n",
    "print(len(np.setdiff1d(unique_items, list(ratings_pivot.columns))))"
   ]
  },
  {
   "cell_type": "markdown",
   "metadata": {},
   "source": [
    "### Poznámka k vytváraniu matice"
   ]
  },
  {
   "cell_type": "markdown",
   "metadata": {},
   "source": [
    "Metóda `pivot` DataFrame je časovo aj pamäťovo veľmi náročná operácia. Ak nepotrebujete skúmať maticu hodnotení, ktorú `pivot` vygeneruje, odporúčam použiť nasledujúce zjednodušenie. Hoci je to menej transparentný postup, dosiahnete rovnaký výsledok a navyše rýchlejšie.\n",
    "\n",
    "Zdroj: https://stackoverflow.com/a/41133881"
   ]
  },
  {
   "cell_type": "code",
   "execution_count": 43,
   "metadata": {},
   "outputs": [],
   "source": [
    "user_u = list(sorted(train_df.userId.unique()))\n",
    "item_u = list(sorted(train_df.movieId.unique()))\n",
    "\n",
    "row = train_df.userId.astype(pd.api.types.CategoricalDtype(categories=user_u)).cat.codes\n",
    "col = train_df.movieId.astype(pd.api.types.CategoricalDtype(categories=item_u)).cat.codes\n",
    "\n",
    "data = train_df['rating'].tolist()\n",
    "\n",
    "sparce_rating_matrix_alt = sp.sparse.csr_matrix((data, (row, col)), shape=(len(user_u), len(item_u)))"
   ]
  },
  {
   "cell_type": "code",
   "execution_count": 44,
   "metadata": {},
   "outputs": [],
   "source": [
    "# Odstranenie fiktivnych hodnoteni.\n",
    "sparce_rating_matrix_alt = sp.sparse.csr_matrix(np.delete(sparce_rating_matrix_alt.toarray(), 0, axis=0))"
   ]
  },
  {
   "cell_type": "code",
   "execution_count": 45,
   "metadata": {},
   "outputs": [
    {
     "data": {
      "text/plain": [
       "<6040x3706 sparse matrix of type '<class 'numpy.float64'>'\n",
       "\twith 800167 stored elements in Compressed Sparse Row format>"
      ]
     },
     "execution_count": 45,
     "metadata": {},
     "output_type": "execute_result"
    }
   ],
   "source": [
    "sparce_rating_matrix"
   ]
  },
  {
   "cell_type": "code",
   "execution_count": 46,
   "metadata": {},
   "outputs": [
    {
     "data": {
      "text/plain": [
       "<6040x3706 sparse matrix of type '<class 'numpy.float64'>'\n",
       "\twith 800167 stored elements in Compressed Sparse Row format>"
      ]
     },
     "execution_count": 46,
     "metadata": {},
     "output_type": "execute_result"
    }
   ],
   "source": [
    "sparce_rating_matrix_alt"
   ]
  },
  {
   "cell_type": "markdown",
   "metadata": {},
   "source": [
    "## Odporúčanie pomocou knižnice LightFM"
   ]
  },
  {
   "cell_type": "markdown",
   "metadata": {},
   "source": [
    "Vytvorenú maticu teraz použijeme priamo pre odporúčanie."
   ]
  },
  {
   "cell_type": "code",
   "execution_count": 47,
   "metadata": {},
   "outputs": [],
   "source": [
    "from lightfm import LightFM"
   ]
  },
  {
   "cell_type": "code",
   "execution_count": 48,
   "metadata": {},
   "outputs": [
    {
     "data": {
      "text/html": [
       "<div>\n",
       "<style scoped>\n",
       "    .dataframe tbody tr th:only-of-type {\n",
       "        vertical-align: middle;\n",
       "    }\n",
       "\n",
       "    .dataframe tbody tr th {\n",
       "        vertical-align: top;\n",
       "    }\n",
       "\n",
       "    .dataframe thead th {\n",
       "        text-align: right;\n",
       "    }\n",
       "</style>\n",
       "<table border=\"1\" class=\"dataframe\">\n",
       "  <thead>\n",
       "    <tr style=\"text-align: right;\">\n",
       "      <th>movieId</th>\n",
       "      <th>1.0</th>\n",
       "      <th>2.0</th>\n",
       "      <th>3.0</th>\n",
       "      <th>4.0</th>\n",
       "      <th>5.0</th>\n",
       "      <th>6.0</th>\n",
       "      <th>7.0</th>\n",
       "      <th>8.0</th>\n",
       "      <th>9.0</th>\n",
       "      <th>10.0</th>\n",
       "      <th>...</th>\n",
       "      <th>3943.0</th>\n",
       "      <th>3944.0</th>\n",
       "      <th>3945.0</th>\n",
       "      <th>3946.0</th>\n",
       "      <th>3947.0</th>\n",
       "      <th>3948.0</th>\n",
       "      <th>3949.0</th>\n",
       "      <th>3950.0</th>\n",
       "      <th>3951.0</th>\n",
       "      <th>3952.0</th>\n",
       "    </tr>\n",
       "    <tr>\n",
       "      <th>userId</th>\n",
       "      <th></th>\n",
       "      <th></th>\n",
       "      <th></th>\n",
       "      <th></th>\n",
       "      <th></th>\n",
       "      <th></th>\n",
       "      <th></th>\n",
       "      <th></th>\n",
       "      <th></th>\n",
       "      <th></th>\n",
       "      <th></th>\n",
       "      <th></th>\n",
       "      <th></th>\n",
       "      <th></th>\n",
       "      <th></th>\n",
       "      <th></th>\n",
       "      <th></th>\n",
       "      <th></th>\n",
       "      <th></th>\n",
       "      <th></th>\n",
       "      <th></th>\n",
       "    </tr>\n",
       "  </thead>\n",
       "  <tbody>\n",
       "    <tr>\n",
       "      <th>6036.0</th>\n",
       "      <td>0.0</td>\n",
       "      <td>0.0</td>\n",
       "      <td>0.0</td>\n",
       "      <td>-1.0</td>\n",
       "      <td>0.0</td>\n",
       "      <td>1.0</td>\n",
       "      <td>0.0</td>\n",
       "      <td>0.0</td>\n",
       "      <td>0.0</td>\n",
       "      <td>0.0</td>\n",
       "      <td>...</td>\n",
       "      <td>0.0</td>\n",
       "      <td>0.0</td>\n",
       "      <td>0.0</td>\n",
       "      <td>0.0</td>\n",
       "      <td>0.0</td>\n",
       "      <td>0.0</td>\n",
       "      <td>0.0</td>\n",
       "      <td>0.0</td>\n",
       "      <td>0.0</td>\n",
       "      <td>0.0</td>\n",
       "    </tr>\n",
       "    <tr>\n",
       "      <th>6037.0</th>\n",
       "      <td>0.0</td>\n",
       "      <td>0.0</td>\n",
       "      <td>0.0</td>\n",
       "      <td>0.0</td>\n",
       "      <td>0.0</td>\n",
       "      <td>0.0</td>\n",
       "      <td>0.0</td>\n",
       "      <td>0.0</td>\n",
       "      <td>0.0</td>\n",
       "      <td>0.0</td>\n",
       "      <td>...</td>\n",
       "      <td>0.0</td>\n",
       "      <td>0.0</td>\n",
       "      <td>0.0</td>\n",
       "      <td>0.0</td>\n",
       "      <td>0.0</td>\n",
       "      <td>0.0</td>\n",
       "      <td>0.0</td>\n",
       "      <td>0.0</td>\n",
       "      <td>0.0</td>\n",
       "      <td>0.0</td>\n",
       "    </tr>\n",
       "    <tr>\n",
       "      <th>6038.0</th>\n",
       "      <td>0.0</td>\n",
       "      <td>0.0</td>\n",
       "      <td>0.0</td>\n",
       "      <td>0.0</td>\n",
       "      <td>0.0</td>\n",
       "      <td>0.0</td>\n",
       "      <td>0.0</td>\n",
       "      <td>0.0</td>\n",
       "      <td>0.0</td>\n",
       "      <td>0.0</td>\n",
       "      <td>...</td>\n",
       "      <td>0.0</td>\n",
       "      <td>0.0</td>\n",
       "      <td>0.0</td>\n",
       "      <td>0.0</td>\n",
       "      <td>0.0</td>\n",
       "      <td>0.0</td>\n",
       "      <td>0.0</td>\n",
       "      <td>0.0</td>\n",
       "      <td>0.0</td>\n",
       "      <td>0.0</td>\n",
       "    </tr>\n",
       "    <tr>\n",
       "      <th>6039.0</th>\n",
       "      <td>0.0</td>\n",
       "      <td>0.0</td>\n",
       "      <td>0.0</td>\n",
       "      <td>0.0</td>\n",
       "      <td>0.0</td>\n",
       "      <td>0.0</td>\n",
       "      <td>0.0</td>\n",
       "      <td>0.0</td>\n",
       "      <td>0.0</td>\n",
       "      <td>0.0</td>\n",
       "      <td>...</td>\n",
       "      <td>0.0</td>\n",
       "      <td>0.0</td>\n",
       "      <td>0.0</td>\n",
       "      <td>0.0</td>\n",
       "      <td>0.0</td>\n",
       "      <td>0.0</td>\n",
       "      <td>0.0</td>\n",
       "      <td>0.0</td>\n",
       "      <td>0.0</td>\n",
       "      <td>0.0</td>\n",
       "    </tr>\n",
       "    <tr>\n",
       "      <th>6040.0</th>\n",
       "      <td>1.0</td>\n",
       "      <td>0.0</td>\n",
       "      <td>0.0</td>\n",
       "      <td>0.0</td>\n",
       "      <td>0.0</td>\n",
       "      <td>0.0</td>\n",
       "      <td>0.0</td>\n",
       "      <td>0.0</td>\n",
       "      <td>0.0</td>\n",
       "      <td>0.0</td>\n",
       "      <td>...</td>\n",
       "      <td>0.0</td>\n",
       "      <td>0.0</td>\n",
       "      <td>0.0</td>\n",
       "      <td>0.0</td>\n",
       "      <td>0.0</td>\n",
       "      <td>0.0</td>\n",
       "      <td>0.0</td>\n",
       "      <td>0.0</td>\n",
       "      <td>0.0</td>\n",
       "      <td>0.0</td>\n",
       "    </tr>\n",
       "  </tbody>\n",
       "</table>\n",
       "<p>5 rows × 3706 columns</p>\n",
       "</div>"
      ],
      "text/plain": [
       "movieId  1.0     2.0     3.0     4.0     5.0     6.0     7.0     8.0     \\\n",
       "userId                                                                    \n",
       "6036.0      0.0     0.0     0.0    -1.0     0.0     1.0     0.0     0.0   \n",
       "6037.0      0.0     0.0     0.0     0.0     0.0     0.0     0.0     0.0   \n",
       "6038.0      0.0     0.0     0.0     0.0     0.0     0.0     0.0     0.0   \n",
       "6039.0      0.0     0.0     0.0     0.0     0.0     0.0     0.0     0.0   \n",
       "6040.0      1.0     0.0     0.0     0.0     0.0     0.0     0.0     0.0   \n",
       "\n",
       "movieId  9.0     10.0     ...    3943.0  3944.0  3945.0  3946.0  3947.0  \\\n",
       "userId                    ...                                             \n",
       "6036.0      0.0     0.0   ...       0.0     0.0     0.0     0.0     0.0   \n",
       "6037.0      0.0     0.0   ...       0.0     0.0     0.0     0.0     0.0   \n",
       "6038.0      0.0     0.0   ...       0.0     0.0     0.0     0.0     0.0   \n",
       "6039.0      0.0     0.0   ...       0.0     0.0     0.0     0.0     0.0   \n",
       "6040.0      0.0     0.0   ...       0.0     0.0     0.0     0.0     0.0   \n",
       "\n",
       "movieId  3948.0  3949.0  3950.0  3951.0  3952.0  \n",
       "userId                                           \n",
       "6036.0      0.0     0.0     0.0     0.0     0.0  \n",
       "6037.0      0.0     0.0     0.0     0.0     0.0  \n",
       "6038.0      0.0     0.0     0.0     0.0     0.0  \n",
       "6039.0      0.0     0.0     0.0     0.0     0.0  \n",
       "6040.0      0.0     0.0     0.0     0.0     0.0  \n",
       "\n",
       "[5 rows x 3706 columns]"
      ]
     },
     "execution_count": 48,
     "metadata": {},
     "output_type": "execute_result"
    }
   ],
   "source": [
    "ratings_pivot.tail()"
   ]
  },
  {
   "cell_type": "markdown",
   "metadata": {},
   "source": [
    "Natrénujeme model LightFM s predvolenými parametrami, pričom trénujeme priamo na matici hodnotení.\n",
    "\n",
    "Kto by sa chcel pohrať s parametrami, odporúčam [pozrieť dokumentáciu](http://lyst.github.io/lightfm/docs/home.html)."
   ]
  },
  {
   "cell_type": "code",
   "execution_count": 49,
   "metadata": {},
   "outputs": [
    {
     "data": {
      "text/plain": [
       "<lightfm.lightfm.LightFM at 0x7f8e2ef8b0b8>"
      ]
     },
     "execution_count": 49,
     "metadata": {},
     "output_type": "execute_result"
    }
   ],
   "source": [
    "model = LightFM(loss='warp-kos', learning_schedule = \"adadelta\", no_components = 5)\n",
    "\n",
    "# Natrénovanie modelu (môže chvíľu trvať).\n",
    "model.fit(sparce_rating_matrix, epochs=20)"
   ]
  },
  {
   "cell_type": "markdown",
   "metadata": {},
   "source": [
    "A teraz hor sa do odporúčania!\n",
    "\n",
    "Vyskúšame si to najskôr na používateľovi **na prvom riadku matice hodnotení**.\n",
    "\n",
    "Metóda `predict` prijíma ako prvý parameter _index riadku matice hodnotení_ (t.j. index používateľa). Druhým parametrom je _zoznam položiek, pre ktorého chceme vedieť **poradie**_ (t.j. zoznam filmov). My budeme žiadať poradie pre všetky filmy, ktoré máme k dispozícii."
   ]
  },
  {
   "cell_type": "code",
   "execution_count": 50,
   "metadata": {},
   "outputs": [],
   "source": [
    "user_id = unique_users[0]"
   ]
  },
  {
   "cell_type": "code",
   "execution_count": 51,
   "metadata": {},
   "outputs": [
    {
     "data": {
      "text/plain": [
       "array([ -5.5218997 ,  -8.37373161,  -9.82261848, ..., -10.73168087,\n",
       "       -11.04235363,  -8.04077435])"
      ]
     },
     "execution_count": 51,
     "metadata": {},
     "output_type": "execute_result"
    }
   ],
   "source": [
    "predictions = model.predict(user_id, np.arange(len(unique_items)))\n",
    "predictions"
   ]
  },
  {
   "cell_type": "markdown",
   "metadata": {},
   "source": [
    "Hmm... zaujímavé čísielka. Ako zistíme TOP 10 narelevantnejších filmov?"
   ]
  },
  {
   "cell_type": "code",
   "execution_count": 52,
   "metadata": {},
   "outputs": [
    {
     "data": {
      "text/plain": [
       "array([1478,  443, 1384, 1848,  699, 2086,   20,  106,  339,  367])"
      ]
     },
     "execution_count": 52,
     "metadata": {},
     "output_type": "execute_result"
    }
   ],
   "source": [
    "np.argsort(-predictions)[:10]"
   ]
  },
  {
   "cell_type": "markdown",
   "metadata": {},
   "source": [
    "Treba si uvedomiť, že toto sú stále indexy v matici hodnotení, čiže **nie ID filmov z nášho datasetu**. Tie ale získame pomerne jednoducho:"
   ]
  },
  {
   "cell_type": "code",
   "execution_count": 53,
   "metadata": {},
   "outputs": [
    {
     "data": {
      "text/plain": [
       "array([1610,  457, 1500, 2028,  733, 2278,   21,  110,  349,  377])"
      ]
     },
     "execution_count": 53,
     "metadata": {},
     "output_type": "execute_result"
    }
   ],
   "source": [
    "predictions_movieIds = unique_items[np.argsort(-predictions)[:10]]\n",
    "predictions_movieIds"
   ]
  },
  {
   "cell_type": "markdown",
   "metadata": {},
   "source": [
    "A nakoľko sme boli úspešní? Pozrime sa do testu pre používateľa."
   ]
  },
  {
   "cell_type": "code",
   "execution_count": 54,
   "metadata": {},
   "outputs": [
    {
     "name": "stdout",
     "output_type": "stream",
     "text": [
      "Testovacia množina používateľa: [1962, 1954, 1784, 1210, 1370, 2028, 1244, 442, 3809, 1253, 1265, 318, 2728, 2268, 1597, 1957, 2943, 2278, 1217, 1442, 589, 165, 1225, 920, 457]\n",
      "Prienik s odporúčaním: [ 457 2028 2278]\n"
     ]
    }
   ],
   "source": [
    "user_test = list(test_df[test_df['userId'] == unique_users[user_id]]['movieId'])\n",
    "print(f\"Testovacia množina používateľa: {user_test}\")\n",
    "print(f\"Prienik s odporúčaním: {np.intersect1d(user_test, predictions_movieIds)}\")"
   ]
  },
  {
   "cell_type": "markdown",
   "metadata": {},
   "source": [
    "Tuší niekto, aká zrada tu mohla nastať?"
   ]
  },
  {
   "cell_type": "code",
   "execution_count": 55,
   "metadata": {},
   "outputs": [
    {
     "name": "stdout",
     "output_type": "stream",
     "text": [
      "Trénovacia množina používateľa:\n",
      "[1527.0, 95.0, 647.0, 1124.0, 2353.0, 1293.0, 2126.0, 3071.0, 3147.0, 3257.0, 2881.0, 459.0, 1917.0, 3471.0, 982.0, 3035.0, 1945.0, 2628.0, 1953.0, 2858.0, 1537.0, 2852.0, 1188.0, 21.0, 1544.0, 1408.0, 1834.0, 235.0, 593.0, 2501.0, 515.0, 3108.0, 3255.0, 1103.0, 1968.0, 2006.0, 3678.0, 1357.0, 3107.0, 2571.0, 2236.0, 3256.0, 3654.0, 1610.0, 3030.0, 2067.0, 1198.0, 1084.0, 368.0, 2312.0, 2916.0, 1687.0, 3418.0, 110.0, 1213.0, 356.0, 736.0, 902.0, 2490.0, 3334.0, 3468.0, 2359.0, 3105.0, 1552.0, 590.0, 292.0, 1792.0, 1096.0, 1372.0, 1245.0, 2717.0, 2321.0, 1955.0, 648.0, 1207.0, 163.0, 1801.0, 380.0, 498.0, 480.0, 3893.0, 2396.0, 1196.0, 1385.0, 3095.0, 2194.0, 1259.0, 1873.0, 1690.0, 2427.0, 1090.0, 1247.0, 265.0, 3578.0, 2002.0, 434.0, 3735.0, 3699.0, 1193.0, 3068.0, 780.0, 1246.0, 349.0, 3451.0]\n",
      "\n",
      "Prienik s odporúčaním: [  21.  110.  349. 1610.]\n"
     ]
    }
   ],
   "source": [
    "user_train = list(train_df[train_df['userId'] == unique_users[user_id]]['movieId'])\n",
    "print(f\"Trénovacia množina používateľa:\\n{user_train}\\n\")\n",
    "print(f\"Prienik s odporúčaním: {np.intersect1d(user_train, predictions_movieIds)}\")"
   ]
  },
  {
   "cell_type": "markdown",
   "metadata": {},
   "source": [
    "Do predikcie sa nám prebojovalo niekoľko filmov, ktoré už používateľ ohodnotili. **Vzhľadom na povahu datasetu** nám to skresľuje výsledok.\n",
    "\n",
    "Riešenie je opäť jednoduché. Po vygenerovaní poradia nastavme na tých indexoch, ktoré reprezentujú položky z trénovacej množiny, nízke hodnoty. Čiže do Top $N$ poradia sa nikdy nedostanú (ak nebude $N$ zhodné s počtom všetkých filmov)."
   ]
  },
  {
   "cell_type": "code",
   "execution_count": 56,
   "metadata": {},
   "outputs": [],
   "source": [
    "# Ziskame indexy filmov, ktore mame pre pouzivatela v traine.\n",
    "user_train_indexes = np.where(np.in1d(unique_items, user_train))\n",
    "\n",
    "# Vygenerujeme predikciu poradia.\n",
    "predictions_new = model.predict(user_id, np.arange(len(unique_items)))\n",
    "\n",
    "# Na tie miesta, kde sa nachadzaju filmy z trenovacej mnoziny, vlozime zaporne hodnoty.\n",
    "np.put(predictions_new, user_train_indexes, np.min(predictions_new)-1)"
   ]
  },
  {
   "cell_type": "markdown",
   "metadata": {},
   "source": [
    "Napadá niekomu, ako sa dá urobiť ešte inak?"
   ]
  },
  {
   "cell_type": "code",
   "execution_count": 57,
   "metadata": {},
   "outputs": [
    {
     "name": "stdout",
     "output_type": "stream",
     "text": [
      "[1610  457 1500 2028  733 2278   21  110  349  377]\n",
      "[ 457 1500 2028  733 2278  377   50 1265  474 1580]\n"
     ]
    }
   ],
   "source": [
    "# Porovname povodne predikcie s novymi, ktore neobsahuju filmy z trainu pouzivatela.\n",
    "predictions_new_movieIds = unique_items[np.argsort(-predictions_new)[:10]]\n",
    "print(predictions_movieIds)\n",
    "print(predictions_new_movieIds)"
   ]
  },
  {
   "cell_type": "markdown",
   "metadata": {},
   "source": [
    "Nové odporúčania sa už líšia. Porovnajme teda presnosť s predchádzajúcim."
   ]
  },
  {
   "cell_type": "code",
   "execution_count": 58,
   "metadata": {},
   "outputs": [
    {
     "name": "stdout",
     "output_type": "stream",
     "text": [
      "Testovacia množina používateľa: [1962, 1954, 1784, 1210, 1370, 2028, 1244, 442, 3809, 1253, 1265, 318, 2728, 2268, 1597, 1957, 2943, 2278, 1217, 1442, 589, 165, 1225, 920, 457]\n",
      "Prienik pôvodného s odporúčaním: [ 457 2028 2278]\n",
      "Prienik upraveného s odporúčaním: [ 457 1265 2028 2278]\n"
     ]
    }
   ],
   "source": [
    "print(f\"Testovacia množina používateľa: {user_test}\")\n",
    "print(f\"Prienik pôvodného s odporúčaním: {np.intersect1d(user_test, predictions_movieIds)}\")\n",
    "print(f\"Prienik upraveného s odporúčaním: {np.intersect1d(user_test, predictions_new_movieIds)}\")"
   ]
  },
  {
   "cell_type": "markdown",
   "metadata": {},
   "source": [
    "Pre kontrolu."
   ]
  },
  {
   "cell_type": "code",
   "execution_count": 59,
   "metadata": {},
   "outputs": [
    {
     "name": "stdout",
     "output_type": "stream",
     "text": [
      "Prienik trénovacej množiny s odporúčaním: []\n"
     ]
    }
   ],
   "source": [
    "print(f\"Prienik trénovacej množiny s odporúčaním: {np.intersect1d(user_train, predictions_new_movieIds)}\")"
   ]
  },
  {
   "cell_type": "markdown",
   "metadata": {},
   "source": [
    "Budeme odporúčať pre každého používateľa v testovacej množine. **Pozor!** Nemôžeme pracovať priamo s ID používateľa z testovacej množiny, ale musíme získať ich indexy v matici."
   ]
  },
  {
   "cell_type": "code",
   "execution_count": 60,
   "metadata": {},
   "outputs": [],
   "source": [
    "# Metóda vráti odporúčané položky, skutočne hodnotené filmy a veľkosť trénovacej množiny.\n",
    "def recommend(model, train_df, test_df, user_id, n = 10):\n",
    "    \n",
    "    # Potrebujeme ID používateľa, ktoré je prítomné v dataframe s hodnotením.\n",
    "    user_real_id = unique_users[user_id]\n",
    "    \n",
    "    # Získame filmy z trainu.\n",
    "    user_train = list(train_df[train_df['userId'] == user_real_id]['movieId'])\n",
    "    user_train_indexes = np.where(np.in1d(unique_items, user_train))[0]\n",
    "    \n",
    "    # Získame filmy z testu.\n",
    "    user_test = list(test_df[test_df['userId'] == user_real_id]['movieId'])\n",
    "    \n",
    "    # Vykonáme predikciu poradia.\n",
    "    predictions = model.predict(user_id, np.arange(len(unique_items)))\n",
    "    np.put(predictions, user_train_indexes, np.min(predictions)-1)\n",
    "\n",
    "    return [unique_items[np.argsort(-predictions)[:n]], user_test, len(user_train)]    "
   ]
  },
  {
   "cell_type": "code",
   "execution_count": 61,
   "metadata": {},
   "outputs": [
    {
     "data": {
      "text/plain": [
       "6034"
      ]
     },
     "execution_count": 61,
     "metadata": {},
     "output_type": "execute_result"
    }
   ],
   "source": [
    "# Pripravíme si zoznam používateľov z testovacej množiny.\n",
    "user_ids_test = list(test_df['userId'])\n",
    "users_to_test = np.where(np.in1d(unique_users, user_ids_test))[0]\n",
    "len(users_to_test)"
   ]
  },
  {
   "cell_type": "markdown",
   "metadata": {},
   "source": [
    "Teraz postupne pre každého používateľa vykonáme odporúčanie. Zároveň si odmeriame, koľko to bude trvať a vypočítame presnosť odporúčania."
   ]
  },
  {
   "cell_type": "code",
   "execution_count": 62,
   "metadata": {},
   "outputs": [],
   "source": [
    "recommendations = []\n",
    "precision = []\n",
    "\n",
    "start = time.time()\n",
    "for user_id in users_to_test:\n",
    "    \n",
    "    recommendation = recommend(model, train_df, test_df, user_id)\n",
    "    recommendations.append(recommendation)\n",
    "    precision.append(len(np.intersect1d(recommendation[0], recommendation[1])) / 10)\n",
    "    \n",
    "elapsed_time = time.time() - start"
   ]
  },
  {
   "cell_type": "code",
   "execution_count": 63,
   "metadata": {},
   "outputs": [
    {
     "name": "stdout",
     "output_type": "stream",
     "text": [
      "Priemerná presnosť: 0.2637\n",
      "Trvanie odporúčania: 27.437376022338867 sekúnd.\n"
     ]
    }
   ],
   "source": [
    "print(f\"Priemerná presnosť: {round(np.mean(precision), 4)}\")\n",
    "print(f\"Trvanie odporúčania: {elapsed_time} sekúnd.\")"
   ]
  },
  {
   "cell_type": "markdown",
   "metadata": {},
   "source": [
    "## Odporúčanie je pomalé. Čo s tým?"
   ]
  },
  {
   "cell_type": "code",
   "execution_count": 64,
   "metadata": {},
   "outputs": [],
   "source": [
    "import multiprocessing\n",
    "from multiprocessing import Pool\n",
    "\n",
    "num_workers = 15 # Koresponduje s poctom jadier, ale je dobre jedno nechat bokom."
   ]
  },
  {
   "cell_type": "code",
   "execution_count": 65,
   "metadata": {},
   "outputs": [
    {
     "name": "stdout",
     "output_type": "stream",
     "text": [
      "Priemerná presnosť: 0.2637\n",
      "Trvanie odporúčania 27.44 sekund.\n"
     ]
    }
   ],
   "source": [
    "print(f\"Priemerná presnosť: {round(np.mean(precision), 4)}\")\n",
    "print(f\"Trvanie odporúčania {round(elapsed_time, 2)} sekund.\")"
   ]
  },
  {
   "cell_type": "code",
   "execution_count": 66,
   "metadata": {},
   "outputs": [
    {
     "name": "stdout",
     "output_type": "stream",
     "text": [
      "Priemerna presnost: 0.26365594961882666\n",
      "Odporucanie s paralelizaciou trva 4.99 sekund.\n"
     ]
    }
   ],
   "source": [
    "final_results = None\n",
    "\n",
    "# Funkcia, ktorú spúšťame paralelne na každého používateľa.\n",
    "def evaluate_recommendations(user_id):\n",
    "    recommendation = recommend(model, train_df, test_df, user_id)\n",
    "    precision = len(np.intersect1d(recommendation[0], recommendation[1])) / 10\n",
    "    \n",
    "    return [recommendation, precision]\n",
    "\n",
    "start = time.time()\n",
    "with Pool(num_workers) as p:\n",
    "    # Na každého používateľa v teste zavoláme funkciu evaluate_recommendations.\n",
    "    final_results = p.map(evaluate_recommendations, users_to_test)\n",
    "elapsed_time = time.time() - start\n",
    "\n",
    "precision = np.mean([x[1] for x in final_results])\n",
    "print(f\"Priemerna presnost: {precision}\")\n",
    "print(f\"Odporucanie s paralelizaciou trva {round(elapsed_time, 2)} sekund.\")"
   ]
  },
  {
   "cell_type": "markdown",
   "metadata": {},
   "source": [
    "## Vyhodnotenie kvality odporúčania"
   ]
  },
  {
   "cell_type": "markdown",
   "metadata": {},
   "source": [
    "Teraz sa na samotné vyhodnotenie ešte pozrieme podrobnejšie."
   ]
  },
  {
   "cell_type": "markdown",
   "metadata": {},
   "source": [
    "Problém štandardných Python knižníc je ten, že výpočet presnosti zakladajú na úlohách klasifikácie ani regresie. Tu, ale nejde o klasifikáciu, ani regresiu, snažíme sa **predikovať poradie**. Využívame teda metriky z oblasti vyhľadávania informácií.\n",
    "\n",
    "Pokiaľ nevyužijeme knižnice na odporúčanie, ktoré tieto metriky ponúkajú, musíme si ich pripraviť sami :)\n",
    "\n",
    "Odporúčam link:\n",
    "https://gist.github.com/bwhite/3726239"
   ]
  },
  {
   "cell_type": "markdown",
   "metadata": {},
   "source": [
    "### Presnosť, pokrytie, F1-skóre"
   ]
  },
  {
   "cell_type": "code",
   "execution_count": 67,
   "metadata": {},
   "outputs": [],
   "source": [
    "def precision_at_k(predicted, true, k = 10, n = 10):\n",
    "    return (len(np.intersect1d(predicted[:k], true)) / n)\n",
    "\n",
    "def recall_at_k(predicted, true, k = 10):\n",
    "    return (len(np.intersect1d(predicted[:k], true)) / len(true))\n",
    "\n",
    "def f1_measure_at_k(predicted, true, n = 10):\n",
    "    prec = precision_at_k(predicted, true, n)\n",
    "    rec = recall_at_k(predicted, true)\n",
    "    return (2*prec*rec)/(prec + rec)"
   ]
  },
  {
   "cell_type": "markdown",
   "metadata": {},
   "source": [
    "Ukážeme si na príklade."
   ]
  },
  {
   "cell_type": "code",
   "execution_count": 68,
   "metadata": {},
   "outputs": [
    {
     "name": "stdout",
     "output_type": "stream",
     "text": [
      "Presnosť: 0.10\n",
      "Pokrytie: 0.25\n",
      "F1-skóre: 0.14\n"
     ]
    }
   ],
   "source": [
    "predicted = [1, 2, 3]\n",
    "test = [1, 4, 5, 6]\n",
    "\n",
    "print(\"Presnosť: {:0.2f}\\nPokrytie: {:0.2f}\\nF1-skóre: {:0.2f}\".\\\n",
    "      format(precision_at_k(predicted, test), recall_at_k(predicted, test), f1_measure_at_k(predicted, test)))"
   ]
  },
  {
   "cell_type": "markdown",
   "metadata": {},
   "source": [
    "Pri predpovedaní poradia nás zaujíma, na ktorom mieste boli relevantné výsledky. Čím vyššie, tým lepšie."
   ]
  },
  {
   "cell_type": "code",
   "execution_count": 69,
   "metadata": {},
   "outputs": [],
   "source": [
    "def average_precision(predicted, true):\n",
    "    # Zaujimaju nas pozicie, kde sme sa trafili.\n",
    "    positions = np.isin(predicted, test)\n",
    "    \n",
    "    precisions = [precision_at_k(predicted, test, k+1, k+1) for k in range(positions.size) if positions[k]]\n",
    "    \n",
    "    if len(precisions) > 0:\n",
    "        return np.mean(precisions)\n",
    "    else:\n",
    "        return 0."
   ]
  },
  {
   "cell_type": "code",
   "execution_count": 70,
   "metadata": {},
   "outputs": [
    {
     "name": "stdout",
     "output_type": "stream",
     "text": [
      "Priemerná presnosť pre [1, 2, 3] = 1.00\n",
      "Priemerná presnosť pre [2, 1, 3] = 0.50\n",
      "Priemerná presnosť pre [2, 3, 1] = 0.33\n"
     ]
    }
   ],
   "source": [
    "# Budeme posuvat poziciu 1, ktora je \"spravna\".\n",
    "predicted = [\n",
    "    [1, 2, 3],\n",
    "    [2, 1, 3],\n",
    "    [2, 3, 1]\n",
    "]\n",
    "\n",
    "for pr in predicted:\n",
    "    print(\"Priemerná presnosť pre {} = {:0.2f}\".format(pr, average_precision(pr, test)))"
   ]
  },
  {
   "cell_type": "markdown",
   "metadata": {},
   "source": [
    "Ďalšie metriky v Pythone nájdete napríklad tu: https://gist.github.com/bwhite/3726239"
   ]
  },
  {
   "cell_type": "markdown",
   "metadata": {},
   "source": [
    "Na čo si dať pozor:\n",
    "- pri vyhodnocovaní kvality odporúčania nevyhodnocujte nad trénovacími, ale nad testovacími dátami. Trénovacie dáta používajte len na trénovanie, veď na to sú aj určené,\n",
    "- treba si uvedomiť (a to nielen pri odporúčaní), že tieto metriky uvádzajú **najhorší** výsledok,\n",
    "- častokrát presnosť alebo úplnosť nie je všetko - záleží to od domény a od úlohy,\n",
    "- nikdy neskúmajte len jednu metriku, ale zvoľte si ich viac - opäť, záleží od domény a od úlohy."
   ]
  },
  {
   "cell_type": "markdown",
   "metadata": {},
   "source": [
    "### Testovanie parametrov"
   ]
  },
  {
   "cell_type": "markdown",
   "metadata": {},
   "source": [
    "**Upozornenie:** Pri testovaní parametrov nikdy nezabudnite rozdeliť dáta na trénovaciu, validačnú a testovaciu množinu. Parametre testujte pomocou trénovacej a validačnej množiny. Testovaciu použite na finálne overenie zvolených najlepších parametrov.\n",
    "\n",
    "**Poznámka:** Pri testovaní parametrov je viac než vhodné vykonať n-fold cross validáciu. Na nižšie uvedenom príklade to ukazujem bez nej."
   ]
  },
  {
   "cell_type": "markdown",
   "metadata": {},
   "source": [
    "Knižnica [LightFM](http://lyst.github.io/lightfm/docs/lightfm.html) podporuje 4 typy rôznych stratových funkcií (viď. [dokumentáciu](http://lyst.github.io/lightfm/docs/lightfm.html)). Otestujme, akú kvalitu bude dosahovať odporúčač pri týchto typoch stratových funkcií."
   ]
  },
  {
   "cell_type": "code",
   "execution_count": 71,
   "metadata": {},
   "outputs": [
    {
     "data": {
      "text/plain": [
       "[<lightfm.lightfm.LightFM at 0x7f8e3de5c1d0>,\n",
       " <lightfm.lightfm.LightFM at 0x7f8e3de5c908>,\n",
       " <lightfm.lightfm.LightFM at 0x7f8e3de5cd30>,\n",
       " <lightfm.lightfm.LightFM at 0x7f8e3de5cf98>]"
      ]
     },
     "execution_count": 71,
     "metadata": {},
     "output_type": "execute_result"
    }
   ],
   "source": [
    "model_losses = ['logistic', 'bpr', 'warp', 'warp-kos']\n",
    "\n",
    "# Inicializujeme jednotlive modely na zaklade zvolenej stratovej funkcie.\n",
    "models = {}\n",
    "for loss in model_losses:\n",
    "    models[loss] = LightFM(loss=loss, learning_schedule = \"adadelta\", no_components = 5)\n",
    "\n",
    "# Vsetky modely natrenujeme.\n",
    "[model.fit(sparce_rating_matrix, epochs=20) for model in models.values()]"
   ]
  },
  {
   "cell_type": "markdown",
   "metadata": {},
   "source": [
    "Postupne necháme každý model vygenerovať odporúčanie a pre každý model tiež vypočítame jeho presnosť a úplnosť."
   ]
  },
  {
   "cell_type": "code",
   "execution_count": 72,
   "metadata": {},
   "outputs": [
    {
     "name": "stdout",
     "output_type": "stream",
     "text": [
      "+----------+----------+----------+\n",
      "|  Model   | Presnost | Pokrytie |\n",
      "+----------+----------+----------+\n",
      "| logistic |  0.0546  |  0.0201  |\n",
      "|   bpr    |  0.1992  |  0.0838  |\n",
      "|   warp   |  0.2864  |  0.1159  |\n",
      "| warp-kos |  0.2598  |  0.1074  |\n",
      "+----------+----------+----------+\n"
     ]
    }
   ],
   "source": [
    "final_results = {}\n",
    "\n",
    "def evaluate_recommendations(setup):\n",
    "    model, user_id = setup\n",
    "    \n",
    "    recommendation = recommend(model, train_df, test_df, user_id)\n",
    "    precision_score = precision_at_k(recommendation[0], recommendation[1])\n",
    "    recall_score = recall_at_k(recommendation[0], recommendation[1])\n",
    "    \n",
    "    return [recommendation, precision_score, recall_score]\n",
    "\n",
    "results = PrettyTable(['Model', 'Presnost', 'Pokrytie'])\n",
    "\n",
    "for model_name, model in models.items():\n",
    "    \n",
    "    with Pool(num_workers) as p:\n",
    "        setup = [[model, user_id] for user_id in users_to_test]\n",
    "        \n",
    "        final_results = p.map(evaluate_recommendations, setup)\n",
    "    \n",
    "    precision = np.mean([x[1] for x in final_results])\n",
    "    recall = np.mean([x[2] for x in final_results])\n",
    "    results.add_row([model_name, round(precision, 4), round(recall, 4)])\n",
    "    \n",
    "print(results)"
   ]
  },
  {
   "cell_type": "markdown",
   "metadata": {},
   "source": [
    "Skúsme zafixovať model, ale budeme meniť počet komponentov modelu."
   ]
  },
  {
   "cell_type": "code",
   "execution_count": 73,
   "metadata": {},
   "outputs": [],
   "source": [
    "loss = 'warp'\n",
    "no_components_range = np.arange(5, 30) # The dimensionality of the feature latent embeddings.\n",
    "\n",
    "# Inicializujeme jednotlive modely na zaklade zvolenej stratovej funkcie.\n",
    "models = []\n",
    "for no_components in no_components_range:\n",
    "    models.append(LightFM(loss=loss, learning_schedule = \"adadelta\", no_components = no_components))\n",
    "\n",
    "# Vsetky modely natrenujeme (tu uz vyuzijeme viac jadier, kedze inak by to trvalo privelmi dlho).\n",
    "def fit_model(model):\n",
    "    model.fit(sparce_rating_matrix, epochs=20)\n",
    "    return model\n",
    "\n",
    "with Pool(num_workers) as p:\n",
    "    models = p.map(fit_model, models)"
   ]
  },
  {
   "cell_type": "code",
   "execution_count": 74,
   "metadata": {
    "scrolled": true
   },
   "outputs": [
    {
     "name": "stdout",
     "output_type": "stream",
     "text": [
      "+-------------------+----------+----------+\n",
      "| Pocet komponentov | Presnost | Pokrytie |\n",
      "+-------------------+----------+----------+\n",
      "|         5         |  0.2823  |  0.1142  |\n",
      "|         6         |  0.2966  |  0.1224  |\n",
      "|         7         |  0.3013  |  0.1258  |\n",
      "|         8         |  0.3092  |  0.1309  |\n",
      "|         9         |  0.3129  |  0.1324  |\n",
      "|         10        |  0.3172  |  0.1352  |\n",
      "|         11        |  0.3234  |  0.1393  |\n",
      "|         12        |  0.323   |  0.139   |\n",
      "|         13        |  0.324   |  0.1403  |\n",
      "|         14        |  0.3287  |  0.1448  |\n",
      "|         15        |  0.328   |  0.1425  |\n",
      "|         16        |  0.3298  |  0.1431  |\n",
      "|         17        |  0.3289  |  0.1423  |\n",
      "|         18        |  0.3297  |  0.1443  |\n",
      "|         19        |  0.3289  |  0.1447  |\n",
      "|         20        |  0.3289  |  0.1452  |\n",
      "|         21        |   0.33   |  0.1455  |\n",
      "|         22        |  0.3314  |  0.1468  |\n",
      "|         23        |  0.3301  |  0.1453  |\n",
      "|         24        |  0.3309  |  0.1466  |\n",
      "|         25        |  0.3289  |  0.1453  |\n",
      "|         26        |  0.3284  |  0.1456  |\n",
      "|         27        |  0.3292  |  0.1474  |\n",
      "|         28        |  0.332   |  0.1474  |\n",
      "|         29        |  0.3291  |  0.146   |\n",
      "+-------------------+----------+----------+\n"
     ]
    }
   ],
   "source": [
    "final_results = {}\n",
    "results = []\n",
    "\n",
    "for model in models:\n",
    "    \n",
    "    with Pool(num_workers) as p:\n",
    "        setup = [[model, user_id] for user_id in users_to_test]\n",
    "        \n",
    "        final_results = p.map(evaluate_recommendations, setup)\n",
    "    \n",
    "    precision = np.mean([x[1] for x in final_results])\n",
    "    recall = np.mean([x[2] for x in final_results])\n",
    "    results.append([model.no_components, round(precision, 4), round(recall, 4)])\n",
    "    \n",
    "results_table = PrettyTable(['Pocet komponentov', 'Presnost', 'Pokrytie'])\n",
    "[results_table.add_row(result) for result in results]\n",
    "\n",
    "print(results_table)"
   ]
  },
  {
   "cell_type": "markdown",
   "metadata": {},
   "source": [
    "Vykreslime presnosť a pokrytie do grafu."
   ]
  },
  {
   "cell_type": "code",
   "execution_count": 75,
   "metadata": {},
   "outputs": [
    {
     "data": {
      "image/png": "[encoded data removed]",
      "text/plain": [
       "<matplotlib.figure.Figure at 0x7f8e3de39b70>"
      ]
     },
     "metadata": {},
     "output_type": "display_data"
    }
   ],
   "source": [
    "x = np.array(results)[:, 0]\n",
    "y = np.array(results)[:, 1:]\n",
    "\n",
    "fig = plt.figure(figsize=(15,7))\n",
    "\n",
    "plt.plot(x, y[:, 0], label=\"Presnosť\")\n",
    "plt.plot(x, y[:, 1], label=\"Pokrytie\")\n",
    "plt.legend(loc=2)\n",
    "plt.title('Presnosť a pokrytie v závislosti od počtu komponentov')\n",
    "plt.xlabel('Počet komponentov')\n",
    "plt.ylabel('Hodnota metriky')\n",
    "    \n",
    "plt.show()"
   ]
  },
  {
   "cell_type": "markdown",
   "metadata": {},
   "source": [
    "## Bez normalizácie hodnotenia\n",
    "A čo by sa stalo, kebyže neurobíme normalizáciu na začiatku?"
   ]
  },
  {
   "cell_type": "code",
   "execution_count": 76,
   "metadata": {},
   "outputs": [],
   "source": [
    "ratings = pd.read_csv(MOVIELENS_DATA, sep='\\t', names=['userId', 'movieId', 'rating', 'timestamp'])\n",
    "\n",
    "train_df, test_df = train_test_split(ratings, test_size=0.2)\n",
    "\n",
    "train_df = train_df.copy()\n",
    "train_df['rating_norm'] = 1\n",
    "\n",
    "rating_quantiles = train_df.groupby('userId')['rating'].agg([percentile(25)])\n",
    "train_df = pd.merge(train_df, rating_quantiles, left_on='userId', right_index=True)\n",
    "train_df['rating_norm'] = 0 # Predvolená hodnota.\n",
    "train_df.loc[train_df['rating'] < train_df['quantile_25'], 'rating_norm'] = -1\n",
    "train_df.loc[train_df['rating'] >= train_df['quantile_25'], 'rating_norm'] = 1\n",
    "\n",
    "del train_df['quantile_25']\n",
    "del train_df['timestamp']"
   ]
  },
  {
   "cell_type": "code",
   "execution_count": 77,
   "metadata": {},
   "outputs": [],
   "source": [
    "# Vytvorenie dat bez normalizacie.\n",
    "train_df_orig = train_df.copy()\n",
    "del train_df_orig['rating_norm']\n",
    "ratings_pivot_orig = train_df_orig.pivot(index = 'userId', columns ='movieId', values = 'rating').fillna(0)\n",
    "\n",
    "max_i = np.max(list(train_df_orig.index))\n",
    "for item_id in np.setdiff1d(unique_items, list(ratings_pivot_orig.columns)):\n",
    "    max_i += 1\n",
    "    train_df_orig.at[max_i] = { 'userId': -1, 'movieId': item_id, 'rating': -2 }\n",
    "\n",
    "ratings_pivot_orig = train_df_orig.pivot(index = 'userId', columns ='movieId', values = 'rating').fillna(0)\n",
    "ratings_pivot_orig.drop(-1, axis=0, inplace=True)\n",
    "sparce_rating_matrix_orig = sp.sparse.csr_matrix(ratings_pivot_orig.values)"
   ]
  },
  {
   "cell_type": "code",
   "execution_count": 78,
   "metadata": {},
   "outputs": [],
   "source": [
    "# Vytvorenie dat s normalizaciou.\n",
    "train_df_norm = train_df.copy()\n",
    "del train_df_norm['rating']\n",
    "ratings_pivot_norm = train_df_norm.pivot(index = 'userId', columns ='movieId', values = 'rating_norm').fillna(0)\n",
    "\n",
    "max_i = np.max(list(train_df_norm.index))\n",
    "for item_id in np.setdiff1d(unique_items, list(ratings_pivot_norm.columns)):\n",
    "    max_i += 1\n",
    "    train_df_norm.at[max_i] = { 'userId': -1, 'movieId': item_id, 'rating_norm': -2 }\n",
    "\n",
    "ratings_pivot_norm = train_df_norm.pivot(index = 'userId', columns ='movieId', values = 'rating_norm').fillna(0)\n",
    "ratings_pivot_norm.drop(-1, axis=0, inplace=True)\n",
    "sparce_rating_matrix_norm = sp.sparse.csr_matrix(ratings_pivot_norm.values)"
   ]
  },
  {
   "cell_type": "code",
   "execution_count": 79,
   "metadata": {},
   "outputs": [
    {
     "data": {
      "text/plain": [
       "<lightfm.lightfm.LightFM at 0x7f8e22f64cf8>"
      ]
     },
     "execution_count": 79,
     "metadata": {},
     "output_type": "execute_result"
    }
   ],
   "source": [
    "model_orig = LightFM(loss='warp-kos', learning_schedule = \"adadelta\", no_components = 5)\n",
    "model_norm = LightFM(loss='warp-kos', learning_schedule = \"adadelta\", no_components = 5)\n",
    "\n",
    "model_orig.fit(sparce_rating_matrix_orig, epochs=20)\n",
    "model_norm.fit(sparce_rating_matrix_norm, epochs=20)"
   ]
  },
  {
   "cell_type": "code",
   "execution_count": 80,
   "metadata": {},
   "outputs": [
    {
     "name": "stdout",
     "output_type": "stream",
     "text": [
      "Priemerna presnost (povodne): 0.26397217160841474\n",
      "Priemerna presnost (normalizovane): 0.26975318866986914\n",
      "\n",
      "Priemerna recall (povodne): 0.1095555060208631\n",
      "Priemerna recall (normalizovane): 0.10990552223289092\n"
     ]
    }
   ],
   "source": [
    "final_results = {}\n",
    "\n",
    "user_ids_test = list(test_df['userId'])\n",
    "users_to_test = np.where(np.in1d(unique_users, user_ids_test))[0]\n",
    "\n",
    "def evaluate_recommendations(setup):\n",
    "    model, train_df, test_fd, user_id = setup\n",
    "    \n",
    "    recommendation = recommend(model, train_df, test_df, user_id)\n",
    "    precision_score = precision_at_k(recommendation[0], recommendation[1])\n",
    "    recall_score = recall_at_k(recommendation[0], recommendation[1])\n",
    "    \n",
    "    return [recommendation, precision_score, recall_score]\n",
    "\n",
    "# Vyhodnotenie odporucaca bez normalizacie.\n",
    "with Pool(num_workers) as p:\n",
    "    setup = [[model_orig, train_df_orig, test_df, user_id] for user_id in users_to_test]\n",
    "    final_results['orig'] = p.map(evaluate_recommendations, setup)\n",
    "    \n",
    "# Vyhodnotenie odporucaca s normalizaciou.\n",
    "with Pool(num_workers) as p:\n",
    "    setup = [[model_norm, train_df_norm, test_df, user_id] for user_id in users_to_test]\n",
    "    final_results['norm'] = p.map(evaluate_recommendations, setup)\n",
    "\n",
    "precision_orig = np.mean([x[1] for x in final_results['orig']])\n",
    "precision_norm = np.mean([x[1] for x in final_results['norm']])\n",
    "recall_orig = np.mean([x[2] for x in final_results['orig']])\n",
    "recall_norm = np.mean([x[2] for x in final_results['norm']])\n",
    "\n",
    "print(f\"Priemerna presnost (povodne): {precision_orig}\")\n",
    "print(f\"Priemerna presnost (normalizovane): {precision_norm}\\n\")\n",
    "print(f\"Priemerna recall (povodne): {recall_orig}\")\n",
    "print(f\"Priemerna recall (normalizovane): {recall_norm}\")"
   ]
  },
  {
   "cell_type": "markdown",
   "metadata": {},
   "source": [
    "### Bonus pre fajnšmekrov"
   ]
  },
  {
   "cell_type": "markdown",
   "metadata": {},
   "source": [
    "Sú vypočítané hodnoty presnosti skutočne *signifikantne* rozdielne?"
   ]
  },
  {
   "cell_type": "code",
   "execution_count": 81,
   "metadata": {},
   "outputs": [],
   "source": [
    "import scipy.stats"
   ]
  },
  {
   "cell_type": "code",
   "execution_count": 82,
   "metadata": {},
   "outputs": [],
   "source": [
    "precisions_orig = [x[1] for x in final_results['orig']]\n",
    "precisions_norm = [x[1] for x in final_results['norm']]"
   ]
  },
  {
   "cell_type": "code",
   "execution_count": 83,
   "metadata": {},
   "outputs": [
    {
     "name": "stdout",
     "output_type": "stream",
     "text": [
      "0.057683277675141656\n",
      "0.059611882102222645\n"
     ]
    }
   ],
   "source": [
    "print(np.var(precisions_orig))\n",
    "print(np.var(precisions_norm))"
   ]
  },
  {
   "cell_type": "markdown",
   "metadata": {},
   "source": [
    "Použijeme štatistický t-test, ktorý nám pomôže odhaliť, či majú dve populácie (dva odporúčače) rovnaké očakávané hodnoty (v tomto prípade presnosti).\n",
    "Platí teda, že ak dosiahneme *p-value* pod zvolenú hranicu (napr. $p<0.05$), tak môžeme prehlásiť, že zamietame nulovú\n",
    "hypotézu (t.j. zamietame, že dve populácie majú rovnaký priemer), a teda tieto dve populácie sú signifikantne odlišné.\n",
    "\n",
    "Viac: https://docs.scipy.org/doc/scipy/reference/generated/scipy.stats.ttest_ind.html"
   ]
  },
  {
   "cell_type": "code",
   "execution_count": 84,
   "metadata": {},
   "outputs": [
    {
     "data": {
      "text/plain": [
       "Ttest_indResult(statistic=-1.3114109966669134, pvalue=0.18974388680396262)"
      ]
     },
     "execution_count": 84,
     "metadata": {},
     "output_type": "execute_result"
    }
   ],
   "source": [
    "scipy.stats.ttest_ind(precisions_orig, precisions_norm, equal_var=True)"
   ]
  },
  {
   "cell_type": "code",
   "execution_count": 85,
   "metadata": {},
   "outputs": [
    {
     "data": {
      "text/plain": [
       "Ttest_indResult(statistic=-1.3114109966669139, pvalue=0.18974389354666868)"
      ]
     },
     "execution_count": 85,
     "metadata": {},
     "output_type": "execute_result"
    }
   ],
   "source": [
    "scipy.stats.ttest_ind(precisions_orig, precisions_norm, equal_var=False)"
   ]
  },
  {
   "cell_type": "markdown",
   "metadata": {},
   "source": [
    "Nulovú hypotézu prijímame, čiže normalizácia dát nám v tomto prípade nepomôže ani neuškodí."
   ]
  }
 ],
 "metadata": {
  "kernelspec": {
   "display_name": "Python 3.6",
   "language": "python",
   "name": "python3.6"
  },
  "language_info": {
   "codemirror_mode": {
    "name": "ipython",
    "version": 3
   },
   "file_extension": ".py",
   "mimetype": "text/x-python",
   "name": "python",
   "nbconvert_exporter": "python",
   "pygments_lexer": "ipython3",
   "version": "3.6.4"
  }
 },
 "nbformat": 4,
 "nbformat_minor": 2
}
